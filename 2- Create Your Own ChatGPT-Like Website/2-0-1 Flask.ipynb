{
 "cells": [
  {
   "cell_type": "markdown",
   "id": "78f6c25b-a335-4157-a51a-5510f3ee44ee",
   "metadata": {},
   "source": [
    "# Flask: A Gateway to Web Development in Python\n",
    "\n",
    "\n",
    "\n",
    "## Objectives\n",
    "\n",
    "\n",
    "- Explain the key features of Flask\n",
    "- Demonstrate the code for setting up a Flask application\n",
    "\n",
    "## Introduction\n",
    "\n",
    "Flask is a micro-web framework written in Python. It is called a micro-framework because it does not require tools or libraries. However, it supports extensions that can add application features as if they were implemented in Flask itself. Extensions exist for object-relational mappers, form validation, upload handling, various open authentication technologies, and several common framework-related tools. This flexibility makes Flask adaptable to development needs and serves as the foundation for web applications ranging from small projects to complex, data-driven sites.\n",
    "\n",
    "## Key Features of Flask\n",
    "\n",
    "- **Simplicity:** Flask's simple and easy-to-understand syntax makes it accessible for beginners in web development and powerful enough for experienced developers to build robust applications.\n",
    "- **Flexibility:** The framework can be scaled up with extensions to add features like database integration, authentication, and file upload capabilities.\n",
    "- **Development server and debugger:** Flask has a built-in development server and a debugger. The development server is lightweight and easy to use, making it ideal for the development and testing phases.\n",
    "- **Integrated support for unit testing:** Flask supports unit testing out of the box, allowing developers to verify the correctness of their code through tests, ensuring app reliability.\n",
    "- **RESTful request dispatching:** Flask provides developers with the tools to easily create RESTful APIs, which are crucial for modern web applications and mobile backend services.\n",
    "- **Jinja2 templating:** Flask uses Jinja2 templating, making creating dynamic web pages with HTML easy. Jinja2 is powerful and flexible, providing security features like template inheritance and automatic HTML escaping.\n",
    "\n",
    "## Getting Started with Flask\n",
    "\n",
    "Setting up a Flask application involves a few basic steps.\n",
    "\n",
    "### Installation\n",
    "\n",
    "Flask can be installed using pip, Python's package manager. Simply run `pip install Flask` in your terminal or command prompt.\n",
    "\n",
    "### Creating a Flask App\n",
    "\n",
    "1. Start by importing Flask from the Flask package and create an instance of the Flask class. This instance will be the WSGI application.\n",
    "2. Define routes using the `@app.route()` decorator. Routes tell Flask what function to call when a request is received from a specific URL.\n",
    "3. Each function returns the content that will be sent to the client as a response.\n",
    "\n",
    "### Running the Flask Application\n",
    "\n",
    "To run the application, use `flask run` in the terminal. This command starts a local development server that you can use to test your app.\n",
    "\n",
    "### Example: Flask Application\n",
    "\n",
    "This simple application sets up a web server that responds with \"Hello, World!\" when you access the root URL.\n"
   ]
  },
  {
   "cell_type": "code",
   "execution_count": 1,
   "id": "e8c18e27-9d3a-4f8b-b8d8-df1899a140c4",
   "metadata": {},
   "outputs": [
    {
     "name": "stdout",
     "output_type": "stream",
     "text": [
      "Collecting flask\n",
      "  Downloading flask-3.0.3-py3-none-any.whl.metadata (3.2 kB)\n",
      "Collecting Werkzeug>=3.0.0 (from flask)\n",
      "  Downloading werkzeug-3.0.3-py3-none-any.whl.metadata (3.7 kB)\n",
      "Requirement already satisfied: Jinja2>=3.1.2 in /srv/conda/envs/notebook/lib/python3.11/site-packages (from flask) (3.1.3)\n",
      "Requirement already satisfied: itsdangerous>=2.1.2 in /srv/conda/envs/notebook/lib/python3.11/site-packages (from flask) (2.2.0)\n",
      "Requirement already satisfied: click>=8.1.3 in /srv/conda/envs/notebook/lib/python3.11/site-packages (from flask) (8.1.7)\n",
      "Requirement already satisfied: blinker>=1.6.2 in /srv/conda/envs/notebook/lib/python3.11/site-packages (from flask) (1.7.0)\n",
      "Requirement already satisfied: MarkupSafe>=2.0 in /srv/conda/envs/notebook/lib/python3.11/site-packages (from Jinja2>=3.1.2->flask) (2.1.5)\n",
      "Downloading flask-3.0.3-py3-none-any.whl (101 kB)\n",
      "\u001b[2K   \u001b[90m━━━━━━━━━━━━━━━━━━━━━━━━━━━━━━━━━━━━━━━━\u001b[0m \u001b[32m101.7/101.7 kB\u001b[0m \u001b[31m1.0 MB/s\u001b[0m eta \u001b[36m0:00:00\u001b[0m \u001b[36m0:00:01\u001b[0m\n",
      "\u001b[?25hDownloading werkzeug-3.0.3-py3-none-any.whl (227 kB)\n",
      "\u001b[2K   \u001b[90m━━━━━━━━━━━━━━━━━━━━━━━━━━━━━━━━━━━━━━━━\u001b[0m \u001b[32m227.3/227.3 kB\u001b[0m \u001b[31m2.6 MB/s\u001b[0m eta \u001b[36m0:00:00\u001b[0m00:01\u001b[0m00:01\u001b[0m\n",
      "\u001b[?25hInstalling collected packages: Werkzeug, flask\n",
      "Successfully installed Werkzeug-3.0.3 flask-3.0.3\n",
      "Note: you may need to restart the kernel to use updated packages.\n"
     ]
    }
   ],
   "source": [
    "%pip install flask"
   ]
  },
  {
   "cell_type": "code",
   "execution_count": 4,
   "id": "b91a9913-7492-49d3-b081-f46f69bb7323",
   "metadata": {},
   "outputs": [
    {
     "name": "stdout",
     "output_type": "stream",
     "text": [
      " * Serving Flask app '__main__'\n",
      " * Debug mode: on\n"
     ]
    },
    {
     "name": "stderr",
     "output_type": "stream",
     "text": [
      "WARNING: This is a development server. Do not use it in a production deployment. Use a production WSGI server instead.\n",
      " * Running on http://127.0.0.1:5000\n",
      "Press CTRL+C to quit\n"
     ]
    }
   ],
   "source": [
    "from flask import Flask\n",
    "import threading\n",
    "\n",
    "app = Flask(__name__)\n",
    "\n",
    "@app.route('/')\n",
    "def hello_world():\n",
    "    return 'Hello, World!'\n",
    "\n",
    "def run_app():\n",
    "    app.run(debug=True, use_reloader=False)\n",
    "\n",
    "if __name__ == '__main__':\n",
    "    threading.Thread(target=run_app).start()\n"
   ]
  },
  {
   "cell_type": "code",
   "execution_count": null,
   "id": "7837fbde-05d6-4732-94d3-126bf27931a4",
   "metadata": {},
   "outputs": [],
   "source": []
  }
 ],
 "metadata": {
  "kernelspec": {
   "display_name": "Python 3 (ipykernel)",
   "language": "python",
   "name": "python3"
  },
  "language_info": {
   "codemirror_mode": {
    "name": "ipython",
    "version": 3
   },
   "file_extension": ".py",
   "mimetype": "text/x-python",
   "name": "python",
   "nbconvert_exporter": "python",
   "pygments_lexer": "ipython3",
   "version": "3.11.8"
  }
 },
 "nbformat": 4,
 "nbformat_minor": 5
}
