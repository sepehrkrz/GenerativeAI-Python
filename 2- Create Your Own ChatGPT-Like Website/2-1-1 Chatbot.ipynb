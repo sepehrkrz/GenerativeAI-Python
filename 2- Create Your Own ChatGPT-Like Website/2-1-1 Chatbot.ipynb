{
 "cells": [
  {
   "cell_type": "markdown",
   "id": "cecda420-e60f-4956-9ce5-50176e41e238",
   "metadata": {},
   "source": [
    "# Create Simple Chatbot with Open Source LLMs using Python and Hugging Face\n",
    "\n",
    "## Learning Outcomes\n",
    "At the end of this lab, you will be able to:\n",
    "- Describe the main components of a chatbot\n",
    "- Explain what an LLM is\n",
    "- Select an LLM for your application\n",
    "- Describe how a transformer essentially works\n",
    "- Feed input into a transformer (tokenization)\n",
    "- Program your own simple chatbot in Python\n",
    "\n",
    "## Introduction: Under the Hood of a Chatbot\n",
    "\n",
    "### How does a Chatbot Work?\n",
    "A chatbot is a computer program that takes a text input and returns a corresponding text output.\n",
    "\n",
    "Chatbots use a special kind of computer program called a transformer, which is like its brain. Inside this brain, there is something called a language model (LLM), which helps the chatbot understand and generate human-like responses. It deciphers many examples of human conversations it has seen prior to responding in a sensible manner.\n",
    "\n",
    "Transformers and LLMs work together within a chatbot to enable conversation. Here's a simplified explanation of how they interact:\n",
    "\n",
    "1. **Input Processing:** When you send a message to the chatbot, the transformer helps process your input. It breaks down your message into smaller parts and represents them in a way that the chatbot can understand. Each part is called a token.\n",
    "2. **Understanding Context:** The transformer passes these tokens to the LLM, which is a language model trained on lots of text data. The LLM has learned patterns and meanings from this data, so it tries to understand the context of your message based on what it has learned.\n",
    "3. **Generating Response:** Once the LLM understands your message, it generates a response based on its understanding. The transformer then takes this response and converts it into a format that can be easily sent back to you.\n",
    "4. **Iterative Conversation:** As the conversation continues, this process repeats. The transformer and LLM work together to process each new input message, understand the context, and generate a relevant response.\n",
    "\n",
    "The key is that the LLM learns from a large amount of text data to understand language patterns and generate meaningful responses. The transformer helps with the technical aspects of processing and representing the input/output data, allowing the LLM to focus on understanding and generating language.\n",
    "\n",
    "Once the chatbot understands your message, it uses the language model to generate a response that it thinks will be helpful or interesting to you. The response is sent back to you, and the process continues as you have a back-and-forth conversation with the chatbot.\n",
    "\n",
    "### Introduction to Hugging Face\n",
    "Hugging Face is an organization that focuses on natural language processing (NLP) and AI. They provide a variety of tools, resources, and services to support NLP tasks.\n",
    "\n",
    "You'll be making use of their Python library `transformers` in this project.\n",
    "\n",
    "Alright! Now that you know how a chatbot works at a high level, let's get started with implementing a simple chatbot!\n",
    "\n",
    "## Step 1: Installing Requirements\n",
    "Follow these steps to create a Python virtual environment and install the necessary libraries. Open a new terminal first.\n",
    "\n",
    "### Set Up Your Virtual Environment:\n",
    "```sh\n",
    "pip3 install virtualenv \n",
    "virtualenv my_env # create a virtual environment my_env\n",
    "source my_env/bin/activate # activate my_env\n"
   ]
  },
  {
   "cell_type": "markdown",
   "id": "0dd6bb48-d227-432d-b29f-5f3d397d520c",
   "metadata": {},
   "source": [
    "For this example, you will be using the `transformers` library, which is an open-source natural language processing (NLP) toolkit with many useful features, and also let's install a `torch` library.\n",
    "\n",
    "```sh\n",
    "python3 -m pip install transformers==4.30.2 torch\n"
   ]
  },
  {
   "cell_type": "markdown",
   "id": "18c1a5b3-d5f8-4c1c-98e6-f9e95a2e29c7",
   "metadata": {},
   "source": [
    "### Step 2: Import our required tools from the transformers library\n",
    "\n",
    "For this example, you will be using `AutoTokenizer` and `AutoModelForSeq2SeqLM` from the transformers library."
   ]
  },
  {
   "cell_type": "code",
   "execution_count": 3,
   "id": "0fc3de9b-5cbc-4ff1-aa63-6411937b6306",
   "metadata": {},
   "outputs": [
    {
     "name": "stderr",
     "output_type": "stream",
     "text": [
      "UsageError: Line magic function `%source` not found.\n"
     ]
    }
   ],
   "source": [
    "source my_env/bin/activate # activate my_env"
   ]
  },
  {
   "cell_type": "code",
   "execution_count": 1,
   "id": "528eef14-17b4-4ed6-be30-24b5c97c7a51",
   "metadata": {},
   "outputs": [
    {
     "ename": "ModuleNotFoundError",
     "evalue": "No module named 'transformers'",
     "output_type": "error",
     "traceback": [
      "\u001b[0;31m---------------------------------------------------------------------------\u001b[0m",
      "\u001b[0;31mModuleNotFoundError\u001b[0m                       Traceback (most recent call last)",
      "Cell \u001b[0;32mIn[1], line 1\u001b[0m\n\u001b[0;32m----> 1\u001b[0m \u001b[38;5;28;01mfrom\u001b[39;00m \u001b[38;5;21;01mtransformers\u001b[39;00m \u001b[38;5;28;01mimport\u001b[39;00m AutoTokenizer, AutoModelForSeq2SeqLM\n",
      "\u001b[0;31mModuleNotFoundError\u001b[0m: No module named 'transformers'"
     ]
    }
   ],
   "source": [
    "from transformers import AutoTokenizer, AutoModelForSeq2SeqLM"
   ]
  },
  {
   "cell_type": "markdown",
   "id": "0154ad7e-d01b-4fde-a5e6-19e9a6d7b960",
   "metadata": {},
   "source": [
    "Add the step into the `chatbot.py` Python file.\n",
    "\n",
    "### Step 3: Choosing a model\n",
    "Choosing the right model for your purposes is an important part of building chatbots! You can read about the different types of models available on the Hugging Face website.\n",
    "\n",
    "LLMs differ from each other in how they are trained. Let's look at some examples to see how different models fit better in various contexts.\n",
    "\n",
    "**Text generation:**\n",
    "If you need a general-purpose text generation model, consider using the GPT-2 or GPT-3 models. They are known for their impressive language generation capabilities.  \n",
    "*Example:* You want to build a chatbot that generates creative and coherent responses to user input.\n",
    "\n",
    "**Sentiment analysis:**\n",
    "For sentiment analysis tasks, models like BERT or RoBERTa are popular choices. They are trained to understand the sentiment and emotional tone of text.  \n",
    "*Example:* You want to analyze customer feedback and determine whether it is positive or negative.\n",
    "\n",
    "**Named entity recognition:**\n",
    "LLMs such as BERT, GPT-2, or RoBERTa can be used for Named Entity Recognition (NER) tasks. They perform well in understanding and extracting entities like person names, locations, organizations, etc.  \n",
    "*Example:* You want to build a system that extracts names of people and places from a given text.\n",
    "\n",
    "**Question answering:**\n",
    "Models like BERT, GPT-2, or XLNet can be effective for question-answering tasks. They can comprehend questions and provide accurate answers based on the given context.  \n",
    "*Example:* You want to build a chatbot that can answer factual questions from a given set of documents.\n",
    "\n",
    "**Language translation:**\n",
    "For language translation tasks, you can consider models like MarianMT or T5. They are designed specifically for translating text between different languages.  \n",
    "*Example:* You want to build a language translation tool that translates English text to French.\n",
    "\n",
    "However, these examples are very limited and the fit of an LLM may depend on many factors such as data availability, performance requirements, resource constraints, and domain-specific considerations. It's important to explore different LLMs thoroughly and experiment with them to find the best match for your specific application.\n",
    "\n",
    "Other important purposes that should be taken into consideration when choosing an LLM include (but are not limited to):\n",
    "\n",
    "- **Licensing:** Ensure you are allowed to use your chosen model the way you intend.\n",
    "- **Model size:** Larger models may be more accurate, but might also come at the cost of greater resource requirements.\n",
    "- **Training data:** Ensure that the model's training data aligns with the domain or context you intend to use the LLM for.\n",
    "- **Performance and accuracy:** Consider factors like accuracy, runtime, or any other metrics that are important for your specific use case.\n",
    "\n",
    "To explore all the different options, check out the available models on the Hugging Face website.\n",
    "\n",
    "For this example, you'll be using `facebook/blenderbot-400M-distill` because it has an open-source license and runs relatively fast.\n",
    "\n"
   ]
  },
  {
   "cell_type": "code",
   "execution_count": null,
   "id": "8235b01f-b1e0-4875-affc-ebafecaa90fd",
   "metadata": {},
   "outputs": [],
   "source": [
    "model_name = \"facebook/blenderbot-400M-distill\""
   ]
  },
  {
   "cell_type": "markdown",
   "id": "e6013a5f-edef-482b-8f91-5781cec7abd7",
   "metadata": {},
   "source": [
    "Add this step into your `chatbot.py` Python file.\n",
    "\n",
    "### Step 4: Fetch the model and initialize a tokenizer\n",
    "When running this code for the first time, the host machine will download the model from Hugging Face API. However, after running the code once, the script will not re-download the model and will instead reference the local installation.\n",
    "\n",
    "You'll be looking at two terms here: **model** and **tokenizer**.\n",
    "\n",
    "In this script, you initiate variables using two handy classes from the `transformers` library:\n",
    "\n",
    "- **model** is an instance of the class `AutoModelForSeq2SeqLM`, which allows you to interact with your chosen language model.\n",
    "- **tokenizer** is an instance of the class `AutoTokenizer`, which optimizes your input and passes it to the language model efficiently. It does so by converting your text input to “tokens”, which is how the model interprets the text.\n",
    "\n",
    "\n"
   ]
  },
  {
   "cell_type": "code",
   "execution_count": null,
   "id": "d61460c9-45bc-4f32-adbb-05381a17eea4",
   "metadata": {},
   "outputs": [],
   "source": [
    "# Load model (download on first run and reference local installation for consequent runs)\n",
    "model = AutoModelForSeq2SeqLM.from_pretrained(model_name)\n",
    "tokenizer = AutoTokenizer.from_pretrained(model_name)"
   ]
  },
  {
   "cell_type": "markdown",
   "id": "05c739ff-6849-422e-844e-307fbd8abfe2",
   "metadata": {},
   "source": [
    "### Step 5: Chat\n",
    "Now that you're all set up, let's start chatting!\n",
    "\n",
    "There are several things you'll do to have an effective conversation with your chatbot.\n",
    "\n",
    "Before interacting with your model, you need to initialize an object where you can store your conversation history.\n",
    "\n",
    "#### Initialize object to store conversation history\n",
    "Afterward, you'll do the following for each interaction with the model:\n",
    "\n",
    "1. Encode conversation history as a string\n",
    "2. Fetch prompt from user\n",
    "3. Tokenize (optimize) prompt\n",
    "4. Generate output from the model using prompt and history\n",
    "5. Decode output\n",
    "6. Update conversation history\n",
    "\n",
    "#### Step 5.1: Keeping track of conversation history\n",
    "The conversation history is important when interacting with a chatbot because the chatbot will also reference the previous conversations when generating output.\n",
    "\n",
    "For your simple implementation in Python, you may use a list. Per the Hugging Face implementation, you will use this list to store the conversation history as follows:\n",
    "conversation_history\n",
    "\n",
    "[input_1, output_1, input_2, output_2, …]\n"
   ]
  },
  {
   "cell_type": "code",
   "execution_count": null,
   "id": "3d844819-5fba-4364-95d9-d98a4071896a",
   "metadata": {},
   "outputs": [],
   "source": [
    "conversation_history = []"
   ]
  },
  {
   "cell_type": "markdown",
   "id": "a680dacf-01a2-4bf7-87fa-c7b3cb1b4824",
   "metadata": {},
   "source": [
    "### Add this step to your python code.\n",
    "\n",
    "#### Step 5.2: Encoding the conversation history\n",
    "During each interaction, you will pass your conversation history to the model along with your input so that it may also reference the previous conversation when generating the next answer.\n",
    "\n",
    "The transformers library function you are using expects to receive the conversation history as a string, with each element separated by the newline character `'\\n'`. Thus, you create such a string.\n",
    "\n",
    "You'll use the `join()` method in Python to do exactly that. (Initially, your `history_string` will be an empty string, which is okay, and will grow as the conversation goes on).\n"
   ]
  },
  {
   "cell_type": "code",
   "execution_count": null,
   "id": "1428e597-4cc9-4d0e-acdf-8c5953b543f6",
   "metadata": {},
   "outputs": [],
   "source": [
    "history_string = \"\\n\".join(conversation_history)"
   ]
  },
  {
   "cell_type": "markdown",
   "id": "0fb85567-a851-498e-b798-fc8083437af0",
   "metadata": {},
   "source": [
    "Add this to `chatbot.py`\n",
    "\n",
    "#### Step 5.3: Fetch prompt from user\n",
    "Before you start building a simple terminal chatbot, let's look at an example of the input:\n"
   ]
  },
  {
   "cell_type": "code",
   "execution_count": null,
   "id": "782b0d4e-d8de-4121-93d1-2be326b37bef",
   "metadata": {},
   "outputs": [],
   "source": [
    "input_text =\"hello, how are you doing?\""
   ]
  },
  {
   "cell_type": "markdown",
   "id": "4f6ba7e9-279a-4d89-9148-efac1d29764d",
   "metadata": {},
   "source": [
    "Add this to `chatbot.py`\n",
    "\n",
    "**Step 5.4: Tokenization of user prompt and chat history**\n",
    "\n",
    "Tokens in NLP are individual units or elements that text or sentences are divided into. Tokenization or vectorization is the process of converting tokens into numerical representations. In NLP tasks, you often use the `encode_plus` method from the tokenizer object to perform tokenization and vectorization. Let's encode your inputs (prompt & chat history) as tokens so that you may pass them to the model.\n"
   ]
  },
  {
   "cell_type": "code",
   "execution_count": null,
   "id": "2df2037e-4c9e-4d88-8162-62faa49953ac",
   "metadata": {},
   "outputs": [],
   "source": [
    "inputs = tokenizer.encode_plus(history_string, input_text, return_tensors=\"pt\")\n",
    "print(inputs)"
   ]
  },
  {
   "cell_type": "markdown",
   "id": "1adac5f3-eb11-45d4-9722-4e2729cfdc79",
   "metadata": {},
   "source": [
    "Add this to `chatbot.py` and run it:"
   ]
  },
  {
   "cell_type": "markdown",
   "id": "7bd7af8a-d5cc-4ace-91a9-7b7ffba03ec3",
   "metadata": {},
   "source": [
    "In doing so, you've now created a Python dictionary which contains special keywords that allow the model to properly reference its contents.\n",
    "\n",
    "To learn more about tokens and their associated pretrained vocabulary files, you can explore the `pretrained_vocab_files_map` attribute. This attribute provides a mapping of pretrained models to their corresponding vocabulary files.\n"
   ]
  },
  {
   "cell_type": "code",
   "execution_count": null,
   "id": "8d2a2b2c-e204-4250-a472-b65e569aef8b",
   "metadata": {},
   "outputs": [],
   "source": [
    "tokenizer.pretrained_vocab_files_map"
   ]
  },
  {
   "cell_type": "markdown",
   "id": "f0a73bce-f06b-42eb-bd5b-3dc5e2f5c5c6",
   "metadata": {},
   "source": [
    "Add this to `chatbot.py` \n",
    "### Step 5.5: Generate output from the model\n",
    "\n",
    "Now that you have your inputs ready, both past and present inputs, you can pass them to the model and generate a response. According to the documentation, you can use the `generate()` function and pass the inputs as keyword arguments (kwargs).\n"
   ]
  },
  {
   "cell_type": "code",
   "execution_count": null,
   "id": "2b53c10a-1cff-46e7-8198-f7e013c77078",
   "metadata": {},
   "outputs": [],
   "source": [
    "outputs = model.generate(**inputs)\n",
    "print(outputs)"
   ]
  },
  {
   "cell_type": "markdown",
   "id": "349922e7-6ee7-45a2-811d-108b88984447",
   "metadata": {},
   "source": [
    "Add this to `chatbot.py` and run it"
   ]
  },
  {
   "cell_type": "markdown",
   "id": "45c9e97a-e0a6-4664-a73f-83864befbe70",
   "metadata": {},
   "source": [
    "Great - now you have your outputs! However, the current output is also a dictionary and contains tokens, not words in plaintext.\n",
    "\n",
    "Therefore, you just need to decode the first index of outputs to see the response in plaintext.\n",
    "\n",
    "Please note that the model used in this project is a basic, lightweight version, not intended for handling complex queries. For more advanced and robust LLMs, you can explore a wide range of options at [huggingface.com](https://huggingface.com).\n",
    "\n",
    "### Step 5.6: Decode output\n",
    "\n",
    "You may decode the output using `tokenizer.decode()`. This is known as \"detokenization\" or \"reconstruction\". It is the process of combining or merging individual tokens back into their original form, to reconstruct the original text or sentence.\n"
   ]
  },
  {
   "cell_type": "code",
   "execution_count": null,
   "id": "d1aa06d6-1e42-4e18-b96e-3272c34c39e6",
   "metadata": {},
   "outputs": [],
   "source": [
    "response = tokenizer.decode(outputs[0], skip_special_tokens=True).strip()\n",
    "print(response)"
   ]
  },
  {
   "cell_type": "markdown",
   "id": "4d72bb7f-fa86-4f3a-a8e8-298920579732",
   "metadata": {},
   "source": [
    "Add this to `chatbot.py` and run it\n",
    "\n",
    "Alright! You've successfully had an interaction with your chatbot! You've given it a prompt, and received its response.\n",
    "\n",
    "Now, all that's left to do is to update your conversation history, so that you may pass it with the next iteration.\n",
    "\n",
    "### Step 5.7: Update conversation history\n",
    "\n",
    "All you need to do here is add both the input and response to `conversation_history` in plaintext.\n"
   ]
  },
  {
   "cell_type": "code",
   "execution_count": null,
   "id": "d5c4707f-f39f-453f-b0b0-a4857b53a3b0",
   "metadata": {},
   "outputs": [],
   "source": [
    "conversation_history.append(input_text)\n",
    "conversation_history.append(response)\n",
    "print(conversation_history)"
   ]
  },
  {
   "cell_type": "markdown",
   "id": "7f3efe5c-5f6b-45f4-a357-23e4a7887da0",
   "metadata": {},
   "source": [
    "### Step 6: Repeat\n",
    "\n",
    "You have gone through all the steps of interacting with your chatbot. Now, you can put everything in a loop and run a whole conversation!\n"
   ]
  },
  {
   "cell_type": "code",
   "execution_count": null,
   "id": "3a068ade-302a-421f-bb52-84de2fc09f30",
   "metadata": {},
   "outputs": [],
   "source": [
    "while True:\n",
    "    # Create conversation history string\n",
    "    history_string = \"\\n\".join(conversation_history)\n",
    "\n",
    "    # Get the input data from the user\n",
    "    input_text = input(\"> \")\n",
    "\n",
    "    # Tokenize the input text and history\n",
    "    inputs = tokenizer.encode_plus(history_string, input_text, return_tensors=\"pt\")\n",
    "\n",
    "    # Generate the response from the model\n",
    "    outputs = model.generate(**inputs)\n",
    "\n",
    "    # Decode the response\n",
    "    response = tokenizer.decode(outputs[0], skip_special_tokens=True).strip()\n",
    "    \n",
    "    print(response)\n",
    "\n",
    "    # Add interaction to conversation history\n",
    "    conversation_history.append(input_text)\n",
    "    conversation_history.append(response)"
   ]
  },
  {
   "cell_type": "code",
   "execution_count": null,
   "id": "f680d0fa-159e-4a88-80b6-809abe43de4f",
   "metadata": {},
   "outputs": [],
   "source": []
  }
 ],
 "metadata": {
  "kernelspec": {
   "display_name": "Python 3 (ipykernel)",
   "language": "python",
   "name": "python3"
  },
  "language_info": {
   "codemirror_mode": {
    "name": "ipython",
    "version": 3
   },
   "file_extension": ".py",
   "mimetype": "text/x-python",
   "name": "python",
   "nbconvert_exporter": "python",
   "pygments_lexer": "ipython3",
   "version": "3.11.8"
  }
 },
 "nbformat": 4,
 "nbformat_minor": 5
}
